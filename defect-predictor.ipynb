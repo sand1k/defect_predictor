{
 "cells": [
  {
   "cell_type": "code",
   "execution_count": 4,
   "metadata": {},
   "outputs": [],
   "source": [
    "import pandas as pd\n",
    "import numpy as np\n",
    "import matplotlib.pyplot as plt\n",
    "import time\n",
    "from sklearn.model_selection import train_test_split\n",
    "from sklearn.naive_bayes import GaussianNB, BernoulliNB, MultinomialNB\n",
    "import pickle"
   ]
  },
  {
   "cell_type": "code",
   "execution_count": 74,
   "metadata": {},
   "outputs": [],
   "source": [
    "with open('metrics.pkl', 'rb') as f:\n",
    "  metrics = pickle.load(f)\n",
    "\n",
    "dataset = pd.DataFrame(metrics)\n",
    "dataset = dataset.dropna(axis=0, how='any')"
   ]
  },
  {
   "cell_type": "code",
   "execution_count": 75,
   "metadata": {},
   "outputs": [
    {
     "name": "stdout",
     "output_type": "stream",
     "text": [
      "Number of mislabeled points out of a total 845 points : 406, performance 51.95%\n"
     ]
    }
   ],
   "source": [
    "X_train, X_test = train_test_split(dataset, test_size=0.2, random_state=int(time.time()))\n",
    "gnb = GaussianNB()\n",
    "\n",
    "#print(len(X_train[X_train.columns[0:16]].values))\n",
    "#print(len(X_train[X_train.columns[16]].values))\n",
    "\n",
    "gnb.fit(X_train[X_train.columns[0:16]].values, X_train[X_train.columns[16]].values.astype('float'))\n",
    "y_pred = gnb.predict(X_test[X_test.columns[0:16]].values)\n",
    "#print(y_pred)\n",
    "\n",
    "\n",
    "# Print results\n",
    "print(\"Number of mislabeled points out of a total {} points : {}, performance {:05.2f}%\"\n",
    "      .format(X_test.shape[0], (X_test[16] != y_pred).sum(), 100 * (1 - (X_test[16] != y_pred).sum() / X_test.shape[0])))"
   ]
  },
  {
   "cell_type": "code",
   "execution_count": null,
   "metadata": {},
   "outputs": [],
   "source": []
  }
 ],
 "metadata": {
  "kernelspec": {
   "display_name": "Python 3",
   "language": "python",
   "name": "python3"
  },
  "language_info": {
   "codemirror_mode": {
    "name": "ipython",
    "version": 3
   },
   "file_extension": ".py",
   "mimetype": "text/x-python",
   "name": "python",
   "nbconvert_exporter": "python",
   "pygments_lexer": "ipython3",
   "version": "3.6.7"
  }
 },
 "nbformat": 4,
 "nbformat_minor": 2
}
